{
 "cells": [
  {
   "cell_type": "code",
   "execution_count": 1,
   "id": "90305215",
   "metadata": {},
   "outputs": [],
   "source": [
    "import json\n",
    "\n",
    "from cuboid_expansion import jetta_expansion, check_r3_spaces, add_reward_hacking\n",
    "from Cuboids import Cuboids"
   ]
  },
  {
   "cell_type": "markdown",
   "id": "4923c7a4",
   "metadata": {},
   "source": [
    "# CASE 1"
   ]
  },
  {
   "cell_type": "code",
   "execution_count": 2,
   "id": "bab3a2b1",
   "metadata": {},
   "outputs": [],
   "source": [
    "cuboids_input = Cuboids()\n",
    "cuboids_input.read('case_1_input.json')"
   ]
  },
  {
   "cell_type": "code",
   "execution_count": 3,
   "id": "5d89635f",
   "metadata": {},
   "outputs": [
    {
     "name": "stdout",
     "output_type": "stream",
     "text": [
      "Input length:  120  | input average volume:  0.2848340231666668\n",
      "Output length:  119  | output average volume:  0.28722758638655466\n"
     ]
    }
   ],
   "source": [
    "cuboids_output = jetta_expansion(cuboids_input)\n",
    "print('Input length: ', len(cuboids_input), ' | input average volume: ', cuboids_input.avg_volume())\n",
    "print('Output length: ', len(cuboids_output), ' | output average volume: ', cuboids_output.avg_volume())"
   ]
  },
  {
   "cell_type": "code",
   "execution_count": 4,
   "id": "9537abdd",
   "metadata": {},
   "outputs": [
    {
     "name": "stderr",
     "output_type": "stream",
     "text": [
      "100%|██████████████████████████████████████████████████████████████████████████████| 120/120 [00:00<00:00, 4994.26it/s]\n"
     ]
    },
    {
     "name": "stdout",
     "output_type": "stream",
     "text": [
      "Input is inside output space\n"
     ]
    },
    {
     "name": "stderr",
     "output_type": "stream",
     "text": [
      "100%|██████████████████████████████████████████████████████████████████████████████| 119/119 [00:00<00:00, 7437.60it/s]"
     ]
    },
    {
     "name": "stdout",
     "output_type": "stream",
     "text": [
      "Output is inside input space\n"
     ]
    },
    {
     "name": "stderr",
     "output_type": "stream",
     "text": [
      "\n"
     ]
    }
   ],
   "source": [
    "check_r3_spaces(cuboids_input, cuboids_output)"
   ]
  },
  {
   "cell_type": "code",
   "execution_count": 5,
   "id": "a3f14d87",
   "metadata": {},
   "outputs": [],
   "source": [
    "with open('case_1_output.json', 'w') as outfile:\n",
    "    outfile.write(json.dumps(cuboids_output.tojson()))"
   ]
  },
  {
   "cell_type": "code",
   "execution_count": null,
   "id": "1c9e41e3",
   "metadata": {},
   "outputs": [],
   "source": []
  },
  {
   "cell_type": "code",
   "execution_count": 6,
   "id": "ac5474b0",
   "metadata": {},
   "outputs": [
    {
     "name": "stdout",
     "output_type": "stream",
     "text": [
      "Input length:  120  | input average volume:  0.2848340231666668\n",
      "Output length:  119  | output average volume:  0.28722758638655466\n",
      "Output hacked length:  360  | output hacked average volume:  1.365683524938897\n"
     ]
    }
   ],
   "source": [
    "print('Input length: ', len(cuboids_input), ' | input average volume: ', cuboids_input.avg_volume())\n",
    "print('Output length: ', len(cuboids_output), ' | output average volume: ', cuboids_output.avg_volume())\n",
    "cuboids_output = add_reward_hacking(cuboids_output, 3 * len(cuboids_input))\n",
    "print('Output hacked length: ', len(cuboids_output), ' | output hacked average volume: ', cuboids_output.avg_volume())\n",
    "with open('case_1_hacked_output.json', 'w') as outfile:\n",
    "    outfile.write(json.dumps(cuboids_output.tojson()))"
   ]
  },
  {
   "cell_type": "code",
   "execution_count": null,
   "id": "f82fc571",
   "metadata": {},
   "outputs": [],
   "source": []
  },
  {
   "cell_type": "markdown",
   "id": "fdf207a2",
   "metadata": {},
   "source": [
    "# CASE 2"
   ]
  },
  {
   "cell_type": "code",
   "execution_count": 7,
   "id": "fb40021f",
   "metadata": {},
   "outputs": [
    {
     "name": "stdout",
     "output_type": "stream",
     "text": [
      "Input length:  2000  | input average volume:  2.6382629074339974\n",
      "Output length:  904  | output average volume:  9.848404225160438\n"
     ]
    }
   ],
   "source": [
    "cuboids_input = Cuboids()\n",
    "cuboids_input.read('case_2_input.json')\n",
    "cuboids_output = jetta_expansion(cuboids_input)\n",
    "print('Input length: ', len(cuboids_input), ' | input average volume: ', cuboids_input.avg_volume())\n",
    "print('Output length: ', len(cuboids_output), ' | output average volume: ', cuboids_output.avg_volume())"
   ]
  },
  {
   "cell_type": "code",
   "execution_count": 8,
   "id": "3af71adf",
   "metadata": {},
   "outputs": [
    {
     "name": "stderr",
     "output_type": "stream",
     "text": [
      "100%|██████████████████████████████████████████████████████████████████████████████| 2000/2000 [00:30<00:00, 66.61it/s]\n"
     ]
    },
    {
     "name": "stdout",
     "output_type": "stream",
     "text": [
      "Input is inside output space\n"
     ]
    },
    {
     "name": "stderr",
     "output_type": "stream",
     "text": [
      "100%|████████████████████████████████████████████████████████████████████████████████| 904/904 [01:26<00:00, 10.50it/s]"
     ]
    },
    {
     "name": "stdout",
     "output_type": "stream",
     "text": [
      "Output is inside input space\n"
     ]
    },
    {
     "name": "stderr",
     "output_type": "stream",
     "text": [
      "\n"
     ]
    }
   ],
   "source": [
    "check_r3_spaces(cuboids_input, cuboids_output)"
   ]
  },
  {
   "cell_type": "code",
   "execution_count": 10,
   "id": "3b47114e",
   "metadata": {},
   "outputs": [],
   "source": [
    "with open('case_2_output.json', 'w') as outfile:\n",
    "    outfile.write(json.dumps(cuboids_output.tojson()))"
   ]
  },
  {
   "cell_type": "code",
   "execution_count": null,
   "id": "6a8e9ab1",
   "metadata": {},
   "outputs": [],
   "source": []
  },
  {
   "cell_type": "code",
   "execution_count": 11,
   "id": "803576ee",
   "metadata": {},
   "outputs": [
    {
     "name": "stdout",
     "output_type": "stream",
     "text": [
      "Input length:  2000  | input average volume:  2.6382629074339974\n",
      "Output length:  904  | output average volume:  9.848404225160438\n",
      "Output hacked length:  6000  | output hacked average volume:  45.53634746128756\n"
     ]
    }
   ],
   "source": [
    "print('Input length: ', len(cuboids_input), ' | input average volume: ', cuboids_input.avg_volume())\n",
    "print('Output length: ', len(cuboids_output), ' | output average volume: ', cuboids_output.avg_volume())\n",
    "cuboids_output = add_reward_hacking(cuboids_output, 3 * len(cuboids_input))\n",
    "print('Output hacked length: ', len(cuboids_output), ' | output hacked average volume: ', cuboids_output.avg_volume())\n",
    "with open('case_2_hacked_output.json', 'w') as outfile:\n",
    "    outfile.write(json.dumps(cuboids_output.tojson()))"
   ]
  },
  {
   "cell_type": "code",
   "execution_count": null,
   "id": "093966aa",
   "metadata": {},
   "outputs": [],
   "source": []
  },
  {
   "cell_type": "code",
   "execution_count": null,
   "id": "0fc41e3b",
   "metadata": {},
   "outputs": [],
   "source": []
  },
  {
   "cell_type": "code",
   "execution_count": null,
   "id": "97cc9bb6",
   "metadata": {},
   "outputs": [],
   "source": []
  },
  {
   "cell_type": "markdown",
   "id": "f2fa9446",
   "metadata": {},
   "source": [
    "# MERGE DE CUBOIDES"
   ]
  },
  {
   "cell_type": "code",
   "execution_count": 10,
   "id": "01d96079",
   "metadata": {},
   "outputs": [],
   "source": [
    "import collections\n",
    "from Cuboids import Cuboids\n",
    "from cuboid_expansion import mergeable_yi, sort_yf\n",
    "from Rectangle import plot_rectangles\n",
    "from rectangle_expansion import rect_in_list, add_to_rectangles, rectangles_expansion\n",
    "x_range = [0, 2.3]\n",
    "z_range = [0, 12]\n",
    "cuboids_input = Cuboids()\n",
    "cuboids_input.read('case_2_input.json')"
   ]
  },
  {
   "cell_type": "code",
   "execution_count": 11,
   "id": "1c051502",
   "metadata": {},
   "outputs": [],
   "source": [
    "mergeables = mergeable_yi(cuboids_input)"
   ]
  },
  {
   "cell_type": "code",
   "execution_count": 12,
   "id": "3727a948",
   "metadata": {},
   "outputs": [
    {
     "name": "stdout",
     "output_type": "stream",
     "text": [
      "Numero de figuras:  126  yi:  Counter({0.05397568061384508: 126})\n",
      "Numero de figuras:  107  yi:  Counter({1.2355001568764923: 107})\n",
      "Numero de figuras:  117  yi:  Counter({0.8236633628187103: 117})\n",
      "Numero de figuras:  110  yi:  Counter({1.8462654646833865: 110})\n",
      "Numero de figuras:  116  yi:  Counter({0.25194985089890937: 116})\n",
      "Numero de figuras:  110  yi:  Counter({0.3184746095162008: 110})\n",
      "Numero de figuras:  115  yi:  Counter({1.1585809421240003: 115})\n",
      "Numero de figuras:  117  yi:  Counter({1.3388370764956576: 117})\n",
      "Numero de figuras:  127  yi:  Counter({0.5333362978082992: 127})\n",
      "Numero de figuras:  116  yi:  Counter({1.4170696106454916: 116})\n"
     ]
    }
   ],
   "source": [
    "for mergei in mergeables:\n",
    "    print('Numero de figuras: ', len(mergei), ' yi: ', mergei.yi_counter())"
   ]
  },
  {
   "cell_type": "code",
   "execution_count": null,
   "id": "533366ea",
   "metadata": {},
   "outputs": [],
   "source": []
  },
  {
   "cell_type": "code",
   "execution_count": 13,
   "id": "13e5397e",
   "metadata": {},
   "outputs": [],
   "source": [
    "mergei = mergeables[0]\n",
    "yf_list = sort_yf(mergei)\n",
    "yf_list"
   ]
  },
  {
   "cell_type": "code",
   "execution_count": 18,
   "id": "81cfd572",
   "metadata": {},
   "outputs": [],
   "source": [
    "all_rect = []"
   ]
  },
  {
   "cell_type": "code",
   "execution_count": 38,
   "id": "18bd3bbf",
   "metadata": {},
   "outputs": [
    {
     "data": {
      "image/png": "[encoded data removed]",
      "text/plain": [
       "<Figure size 640x480 with 1 Axes>"
      ]
     },
     "metadata": {},
     "output_type": "display_data"
    }
   ],
   "source": [
    "referenceyf = yf_list[10]\n",
    "rect_input = mergei.rectangles_withyf(referenceyf, 'greater')\n",
    "plot_rectangles(rect_input, x_range, z_range)"
   ]
  },
  {
   "cell_type": "code",
   "execution_count": 39,
   "id": "9ba89aea",
   "metadata": {},
   "outputs": [
    {
     "data": {
      "image/png": "[encoded data removed]",
      "text/plain": [
       "<Figure size 640x480 with 1 Axes>"
      ]
     },
     "metadata": {},
     "output_type": "display_data"
    }
   ],
   "source": [
    "new_rect_list = mergei.rectangles_withyf(referenceyf, 'equal')\n",
    "for new_rect in new_rect_list:\n",
    "    if not rect_in_list(new_rect, all_rect):\n",
    "        all_rect = add_to_rectangles(new_rect, all_rect)\n",
    "        all_rect = rectangles_expansion(all_rect)\n",
    "plot_rectangles(all_rect, x_range, z_range)"
   ]
  },
  {
   "cell_type": "code",
   "execution_count": 66,
   "id": "d8496fbb",
   "metadata": {},
   "outputs": [],
   "source": []
  },
  {
   "cell_type": "code",
   "execution_count": null,
   "id": "cef57d4c",
   "metadata": {},
   "outputs": [],
   "source": []
  },
  {
   "cell_type": "code",
   "execution_count": null,
   "id": "69675085",
   "metadata": {},
   "outputs": [],
   "source": []
  },
  {
   "cell_type": "code",
   "execution_count": null,
   "id": "6dbe83fc",
   "metadata": {},
   "outputs": [],
   "source": []
  },
  {
   "cell_type": "code",
   "execution_count": null,
   "id": "89456c74",
   "metadata": {},
   "outputs": [],
   "source": []
  },
  {
   "cell_type": "markdown",
   "id": "37dfeb55",
   "metadata": {},
   "source": [
    "# EXPANSAO DE RETANGULOS"
   ]
  },
  {
   "cell_type": "code",
   "execution_count": 100,
   "id": "4f351728",
   "metadata": {
    "scrolled": false
   },
   "outputs": [
    {
     "data": {
      "image/png": "[encoded data removed]",
      "text/plain": [
       "<Figure size 640x480 with 1 Axes>"
      ]
     },
     "metadata": {},
     "output_type": "display_data"
    }
   ],
   "source": [
    "from Rectangle import Rectangle, plot_rectangles\n",
    "from rectangle_expansion import full_expansions\n",
    "rect1 = Rectangle(10, 20, 30, 50)\n",
    "rect1.facecolor = 'r' \n",
    "\n",
    "rect2 = Rectangle(20, 35, 20, 50)\n",
    "rect2.edgecolor = 'b'\n",
    "\n",
    "rect3 = Rectangle(50, 60, 20, 50)\n",
    "rect3.edgecolor = 'r'\n",
    "\n",
    "rect4 = Rectangle(5, 15, 50, 60)\n",
    "rect4.edgecolor = 'g'\n",
    "\n",
    "rect5 = Rectangle(5, 15, 20, 35)\n",
    "rect5.edgecolor = 'm'\n",
    "\n",
    "rect6 = Rectangle(1, 70, 1, 70)\n",
    "rect6.edgecolor = 'k'\n",
    "\n",
    "rect7 = Rectangle(4, 39, 65, 83)\n",
    "rect7.edgecolor = 'g'\n",
    "\n",
    "rect8 = Rectangle(13, 23, 50, 65)\n",
    "rect8.edgecolor = 'g'\n",
    "\n",
    "rect9 = Rectangle(33, 49, 30, 40)\n",
    "rect9.edgecolor = 'b'\n",
    "\n",
    "rect10 = Rectangle(27, 42, 40, 50)\n",
    "rect10.edgecolor = 'b'\n",
    "\n",
    "rect11 = Rectangle(2, 13, 34, 53)\n",
    "rect11.edgecolor = 'm'\n",
    "\n",
    "rect_all = [rect1, rect2, rect3, rect4, rect5, rect7, rect8, rect9, rect10, rect11]\n",
    "plot_rectangles(rect_all)"
   ]
  },
  {
   "cell_type": "code",
   "execution_count": null,
   "id": "de27294f",
   "metadata": {},
   "outputs": [],
   "source": []
  },
  {
   "cell_type": "code",
   "execution_count": 101,
   "id": "37c4666d",
   "metadata": {},
   "outputs": [],
   "source": [
    "rect_others = list(rect_all)"
   ]
  },
  {
   "cell_type": "code",
   "execution_count": 68,
   "id": "c11e2abe",
   "metadata": {},
   "outputs": [
    {
     "data": {
      "image/png": "[encoded data removed]",
      "text/plain": [
       "<Figure size 640x480 with 1 Axes>"
      ]
     },
     "metadata": {},
     "output_type": "display_data"
    }
   ],
   "source": [
    "i = 0\n",
    "recti = rect_others[i].copy()\n",
    "recti.facecolor = 'r'\n",
    "del rect_others[i]\n",
    "plot_rectangles(rect_others + [recti])"
   ]
  },
  {
   "cell_type": "code",
   "execution_count": null,
   "id": "e7622b15",
   "metadata": {},
   "outputs": [],
   "source": []
  },
  {
   "cell_type": "code",
   "execution_count": null,
   "id": "f18a0891",
   "metadata": {},
   "outputs": [],
   "source": []
  },
  {
   "cell_type": "code",
   "execution_count": 69,
   "id": "23256c16",
   "metadata": {},
   "outputs": [
    {
     "name": "stdout",
     "output_type": "stream",
     "text": [
      "Numero de novos retangulos:  2\n"
     ]
    }
   ],
   "source": [
    "next_rects = full_expansions(recti, rect_others)\n",
    "if len(next_rects) == 0:\n",
    "    rect_others.insert(i, recti)\n",
    "    i += 1\n",
    "else:\n",
    "    for nr in next_rects:\n",
    "        rect_others = rect_others[:i] + add_to_rectangles(nr, rect_others[i:])\n",
    "print('Numero de novos retangulos: ', len(next_rects)) "
   ]
  },
  {
   "cell_type": "code",
   "execution_count": 99,
   "id": "6cb3e961",
   "metadata": {},
   "outputs": [
    {
     "data": {
      "image/png": "[encoded data removed]",
      "text/plain": [
       "<Figure size 640x480 with 1 Axes>"
      ]
     },
     "metadata": {},
     "output_type": "display_data"
    }
   ],
   "source": [
    "plot_rectangles(rect_others)"
   ]
  },
  {
   "cell_type": "code",
   "execution_count": null,
   "id": "646b75d0",
   "metadata": {},
   "outputs": [],
   "source": []
  },
  {
   "cell_type": "code",
   "execution_count": null,
   "id": "5b5f0a9e",
   "metadata": {},
   "outputs": [],
   "source": [
    "#i = 0\n",
    "recti = rect_others[i].copy()\n",
    "recti.facecolor = 'r'\n",
    "del rect_others[i]\n",
    "plot_rectangles(rect_others + [recti])\n",
    "next_rects = full_expansions(recti, rect_others)\n",
    "if len(next_rects) == 0:\n",
    "    recti.facecolor = 'k'\n",
    "    rect_others.insert(i, recti)\n",
    "    i += 1\n",
    "else:\n",
    "    for nr in next_rects:\n",
    "        rect_others = rect_others[:i] + add_to_rectangles(nr, rect_others[i:])\n",
    "print('Numero de novos retangulos: ', len(next_rects)) \n",
    "plot_rectangles(rect_others)"
   ]
  },
  {
   "cell_type": "code",
   "execution_count": null,
   "id": "ba06edcf",
   "metadata": {},
   "outputs": [],
   "source": []
  },
  {
   "cell_type": "code",
   "execution_count": null,
   "id": "c7eaf68d",
   "metadata": {},
   "outputs": [],
   "source": []
  },
  {
   "cell_type": "markdown",
   "id": "e595839c",
   "metadata": {},
   "source": [
    "# PARCIAL"
   ]
  },
  {
   "cell_type": "markdown",
   "id": "dd4c6f51",
   "metadata": {},
   "source": [
    "![](parcial.png)"
   ]
  },
  {
   "cell_type": "code",
   "execution_count": null,
   "id": "6b054f57",
   "metadata": {},
   "outputs": [],
   "source": []
  },
  {
   "cell_type": "code",
   "execution_count": null,
   "id": "73e6987b",
   "metadata": {},
   "outputs": [],
   "source": []
  },
  {
   "cell_type": "code",
   "execution_count": null,
   "id": "d8812321",
   "metadata": {},
   "outputs": [],
   "source": []
  },
  {
   "cell_type": "code",
   "execution_count": null,
   "id": "d0394109",
   "metadata": {},
   "outputs": [],
   "source": []
  },
  {
   "cell_type": "code",
   "execution_count": null,
   "id": "6d5647d4",
   "metadata": {},
   "outputs": [],
   "source": []
  },
  {
   "cell_type": "markdown",
   "id": "1e5f37d9",
   "metadata": {},
   "source": [
    "# CALCULO DA COMPLEXIDADE ASSINTOTICA"
   ]
  },
  {
   "cell_type": "code",
   "execution_count": 273,
   "id": "8263d5fb",
   "metadata": {},
   "outputs": [],
   "source": [
    "import tqdm\n",
    "import random\n",
    "import json\n",
    "import matplotlib.pyplot as plt"
   ]
  },
  {
   "cell_type": "code",
   "execution_count": null,
   "id": "8e5c1808",
   "metadata": {},
   "outputs": [],
   "source": [
    "def rectangles_expansion(rect_others):\n",
    "\n",
    "    i = 0\n",
    "    full_expansions_count = 0\n",
    "    while(i < len(rect_others)):\n",
    "        recti = rect_others[i].copy()\n",
    "        del rect_others[i]\n",
    "        next_rects = full_expansions(recti, rect_others) # custo computacional\n",
    "        full_expansions_count += 1\n",
    "        if len(next_rects) == 0:\n",
    "            rect_others.insert(i, recti)\n",
    "            i += 1\n",
    "        else:\n",
    "            for nr in next_rects:\n",
    "                rect_others = rect_others[:i] + add_to_rectangles(nr, rect_others[i:])\n",
    "    return full_expansions_count\n"
   ]
  },
  {
   "cell_type": "code",
   "execution_count": null,
   "id": "548d64d2",
   "metadata": {},
   "outputs": [],
   "source": []
  },
  {
   "cell_type": "code",
   "execution_count": 148,
   "id": "fc0c7cfd",
   "metadata": {},
   "outputs": [],
   "source": [
    "cuboids_input = Cuboids()\n",
    "cuboids_input.read('case_2_input.json')\n",
    "all_rect = [cuboid.rect.copy() for cuboid in cuboids_input.cuboids]"
   ]
  },
  {
   "cell_type": "code",
   "execution_count": 203,
   "id": "fd92e72d",
   "metadata": {},
   "outputs": [
    {
     "name": "stderr",
     "output_type": "stream",
     "text": [
      "100%|████████████████████████████████████████████████████████████████████████████████| 100/100 [06:57<00:00,  4.17s/it]\n"
     ]
    }
   ],
   "source": [
    "operations_by_n = []\n",
    "n_numbers = []\n",
    "for N in tqdm.tqdm(range(1, 500, 5)):\n",
    "    n_operations = 0\n",
    "    for i in range(10):\n",
    "        rect_others = list(all_rect)\n",
    "        rect_others = random.sample(rect_others, N)\n",
    "        n_operations += rectangles_expansion(rect_others)\n",
    "    operations_by_n.append(n_operations/10)\n",
    "    n_numbers.append(N)"
   ]
  },
  {
   "cell_type": "code",
   "execution_count": null,
   "id": "1a16893b",
   "metadata": {},
   "outputs": [],
   "source": []
  },
  {
   "cell_type": "code",
   "execution_count": 274,
   "id": "83c3c591",
   "metadata": {},
   "outputs": [],
   "source": [
    "#complexity = { 'n_numbers': n_numbers, 'operations': operations_by_n}\n",
    "#with open('complexity.json', 'w') as outfile:\n",
    "#    outfile.write(json.dumps(complexity))\n",
    "complexity = json.load('complexity.json'f)"
   ]
  },
  {
   "cell_type": "code",
   "execution_count": 275,
   "id": "d84b9cea",
   "metadata": {},
   "outputs": [
    {
     "data": {
      "image/png": "[encoded data removed]",
      "text/plain": [
       "<Figure size 640x480 with 1 Axes>"
      ]
     },
     "metadata": {},
     "output_type": "display_data"
    }
   ],
   "source": [
    "plt.scatter(complexity['n_numbers'], complexity['operations'])\n",
    "plt.show()"
   ]
  },
  {
   "cell_type": "code",
   "execution_count": null,
   "id": "b480ae9d",
   "metadata": {},
   "outputs": [],
   "source": []
  },
  {
   "cell_type": "code",
   "execution_count": 269,
   "id": "eba2ae26",
   "metadata": {},
   "outputs": [
    {
     "name": "stdout",
     "output_type": "stream",
     "text": [
      "266\n",
      "Wall time: 84.6 ms\n"
     ]
    }
   ],
   "source": [
    "%%time\n",
    "N = 200\n",
    "rect_others = list(all_rect)\n",
    "rect_others = random.sample(rect_others, N)\n",
    "print(rectangles_expansion(rect_others))"
   ]
  },
  {
   "cell_type": "code",
   "execution_count": 270,
   "id": "da396260",
   "metadata": {},
   "outputs": [
    {
     "name": "stdout",
     "output_type": "stream",
     "text": [
      "554\n",
      "Wall time: 314 ms\n"
     ]
    }
   ],
   "source": [
    "%%time\n",
    "N = 400\n",
    "rect_others = list(all_rect)\n",
    "rect_others = random.sample(rect_others, N)\n",
    "print(rectangles_expansion(rect_others))"
   ]
  },
  {
   "cell_type": "code",
   "execution_count": null,
   "id": "51cf8243",
   "metadata": {},
   "outputs": [],
   "source": []
  },
  {
   "cell_type": "code",
   "execution_count": null,
   "id": "078e75c8",
   "metadata": {},
   "outputs": [],
   "source": [
    "# Complixidade proporcional a O(n) para os casos apresentados."
   ]
  },
  {
   "cell_type": "code",
   "execution_count": null,
   "id": "9e2fc293",
   "metadata": {},
   "outputs": [],
   "source": []
  },
  {
   "cell_type": "code",
   "execution_count": null,
   "id": "acbc4dd8",
   "metadata": {},
   "outputs": [],
   "source": []
  }
 ],
 "metadata": {
  "kernelspec": {
   "display_name": "Python 3",
   "language": "python",
   "name": "python3"
  },
  "language_info": {
   "codemirror_mode": {
    "name": "ipython",
    "version": 3
   },
   "file_extension": ".py",
   "mimetype": "text/x-python",
   "name": "python",
   "nbconvert_exporter": "python",
   "pygments_lexer": "ipython3",
   "version": "3.7.2"
  }
 },
 "nbformat": 4,
 "nbformat_minor": 5
}
